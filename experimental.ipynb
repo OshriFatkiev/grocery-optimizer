{
 "cells": [
  {
   "cell_type": "code",
   "execution_count": null,
   "id": "cd9d0c74",
   "metadata": {},
   "outputs": [
    {
     "name": "stdout",
     "output_type": "stream",
     "text": [
      "Collecting requests\n",
      "  Downloading requests-2.32.5-py3-none-any.whl.metadata (4.9 kB)\n",
      "Collecting charset_normalizer<4,>=2 (from requests)\n",
      "  Downloading charset_normalizer-3.4.3-cp313-cp313-macosx_10_13_universal2.whl.metadata (36 kB)\n",
      "Collecting idna<4,>=2.5 (from requests)\n",
      "  Using cached idna-3.10-py3-none-any.whl.metadata (10 kB)\n",
      "Collecting urllib3<3,>=1.21.1 (from requests)\n",
      "  Downloading urllib3-2.5.0-py3-none-any.whl.metadata (6.5 kB)\n",
      "Collecting certifi>=2017.4.17 (from requests)\n",
      "  Downloading certifi-2025.8.3-py3-none-any.whl.metadata (2.4 kB)\n",
      "Downloading requests-2.32.5-py3-none-any.whl (64 kB)\n",
      "Downloading charset_normalizer-3.4.3-cp313-cp313-macosx_10_13_universal2.whl (205 kB)\n",
      "Using cached idna-3.10-py3-none-any.whl (70 kB)\n",
      "Downloading urllib3-2.5.0-py3-none-any.whl (129 kB)\n",
      "Downloading certifi-2025.8.3-py3-none-any.whl (161 kB)\n",
      "Installing collected packages: urllib3, idna, charset_normalizer, certifi, requests\n",
      "\u001b[2K   \u001b[90m━━━━━━━━━━━━━━━━━━━━━━━━━━━━━━━━━━━━━━━━\u001b[0m \u001b[32m5/5\u001b[0m [requests]\n",
      "\u001b[1A\u001b[2KSuccessfully installed certifi-2025.8.3 charset_normalizer-3.4.3 idna-3.10 requests-2.32.5 urllib3-2.5.0\n"
     ]
    }
   ],
   "source": [
    "!pip install requests beautifulsoup4"
   ]
  },
  {
   "cell_type": "code",
   "execution_count": 27,
   "id": "bc9ed508",
   "metadata": {},
   "outputs": [
    {
     "name": "stdout",
     "output_type": "stream",
     "text": [
      "Product: טחינה אמיתית, 400 גרם\n",
      "Price Range: ['9.90', '15.50']\n",
      "---------------------------------------------\n",
      "Product: טחינה גולמית, 500 גרם\n",
      "Price Range: ['18.90', '20.90']\n",
      "---------------------------------------------\n",
      "Product: טחינה ירושלים, 500 גרם\n",
      "Price Range: ['14.90', '18.50']\n",
      "---------------------------------------------\n",
      "Product: טחינה גולמית מעודנת, 310 גרם\n",
      "Price Range: ['11.90', '14.30']\n",
      "---------------------------------------------\n",
      "Product: טחינה גולמית משומשום טבעי, 500 גרם\n",
      "Price Range: ['7.90', '13.90']\n",
      "---------------------------------------------\n"
     ]
    }
   ],
   "source": [
    "import requests\n",
    "\n",
    "url = \"https://chp.co.il/autocompletion/product_extended\"\n",
    "params = {\n",
    "    \"term\": \"טחינה\",  # Product name or partial name\n",
    "    \"from\": 0,        # Pagination offset\n",
    "    \"u\": \"0.5238520595295993\",  # Session or user ID (can be dynamic)\n",
    "    \"shopping_address\": \"מעלה אדומים\",  # Your shopping address\n",
    "    \"shopping_address_city_id\": 3616,  # City ID\n",
    "    \"shopping_address_street_id\": 9000,  # Street ID\n",
    "}\n",
    "\n",
    "response = requests.get(url, params=params)\n",
    "data = response.json()\n",
    "\n",
    "# Print the first 3 product suggestions\n",
    "for product in data[:5]:\n",
    "    print(f\"Product: {product['label']}\")\n",
    "    # print(f\"ID: {product['id']}\")\n",
    "    print(f\"Price Range: {product['parts'].get('price_range', 'N/A')}\")\n",
    "    print(\"-\" * 45)\n"
   ]
  },
  {
   "cell_type": "code",
   "execution_count": 31,
   "id": "0e244d1d",
   "metadata": {},
   "outputs": [
    {
     "name": "stdout",
     "output_type": "stream",
     "text": [
      "{}\n",
      "{'רשת': 'רמי לוי', 'שם החנות': 'מישור אדומים', 'כתובת החנות': 'איתם 1, מישור אדומים, מעלה אדומים', 'מבצע': '5.80 *', 'מחיר': '15.90'}\n",
      "{'רשת': 'יוחננוף', 'שם החנות': 'מישור אדומים', 'כתובת החנות': 'חרובית 38, מישור אדומים, מעלה אדומים', 'מבצע': '5.90 *', 'מחיר': '16.00'}\n",
      "{'רשת': 'שופרסל דיל', 'שם החנות': 'קניון מעלה אדומים', 'כתובת החנות': 'דרך קדם 5, מעלה אדומים', 'מבצע': '5.90 *', 'מחיר': '16.30'}\n",
      "{'רשת': 'מעיין 2000', 'שם החנות': 'מעלה אדומים', 'כתובת החנות': 'פרי מגדים 19, מעלה אדומים', 'מבצע': '', 'מחיר': '15.90'}\n",
      "{'רשת': 'מעיין 2000', 'שם החנות': 'קניון מעלה אדומים', 'כתובת החנות': 'הרכס 31, מעלה אדומים', 'מבצע': '', 'מחיר': '15.90'}\n",
      "{'רשת': 'מעיין 2000', 'שם החנות': 'הצור', 'כתובת החנות': 'הצור 36, מעלה אדומים', 'מבצע': '', 'מחיר': '15.90'}\n",
      "{'רשת': 'מעיין 2000', 'שם החנות': 'כיכר יהלום', 'כתובת החנות': 'כיכר יהלום 1, מעלה אדומים', 'מבצע': '', 'מחיר': '15.90'}\n",
      "{'רשת': 'חצי חינם אונליין', 'שם החנות': 'חצי חינם אונליין', 'אתר אינטרנט': 'https://shop.hazi-hinam.co.il/', 'מבצע': '5.90 *', 'מחיר': '16.10'}\n",
      "{'רשת': 'שופרסל אונליין', 'שם החנות': 'שופרסל אונליין', 'אתר אינטרנט': 'https://www.shufersal.co.il', 'מבצע': '5.90 *', 'מחיר': '16.30'}\n",
      "{'רשת': 'שוק העיר אונליין', 'שם החנות': 'שוק העיר אונליין', 'אתר אינטרנט': 'https://www.shukcity.co.il/', 'מבצע': '8.90 *', 'מחיר': '16.90'}\n",
      "{'רשת': 'ויקטורי אונליין', 'שם החנות': 'ויקטורי אונליין', 'אתר אינטרנט': 'https://www.victoryonline.co.il', 'מבצע': '10.00 *', 'מחיר': '15.90'}\n",
      "{'רשת': 'קרפור אונליין', 'שם החנות': 'קרפור אונליין', 'אתר אינטרנט': 'https://www.carrefour.co.il/', 'מבצע': '10.00 *', 'מחיר': '16.20'}\n",
      "{'רשת': 'רמי לוי באינטרנט', 'שם החנות': 'רמי לוי באינטרנט', 'אתר אינטרנט': 'https://www.rami-levy.co.il', 'מבצע': '10.00 *', 'מחיר': '17.10'}\n",
      "{'רשת': 'קוויק אונליין', 'שם החנות': 'קוויק אונליין', 'אתר אינטרנט': 'https://quik.co.il/', 'מבצע': '10.00 *', 'מחיר': '18.20'}\n",
      "{'רשת': 'קשת טעמים אונליין', 'שם החנות': 'קשת טעמים אונליין', 'אתר אינטרנט': 'https://www.keshet-teamim.co.il/', 'מבצע': '11.90 *', 'מחיר': '15.90'}\n",
      "{'רשת': 'טיב טעם אונליין', 'שם החנות': 'טיב טעם בקליק', 'אתר אינטרנט': 'https://www.tivtaam.co.il/', 'מבצע': '11.90 *', 'מחיר': '16.30'}\n",
      "{'רשת': 'מחסני השוק אונליין', 'שם החנות': 'מחסני השוק אונליין', 'אתר אינטרנט': 'https://www.mck.co.il/', 'מבצע': '', 'מחיר': '15.90'}\n"
     ]
    }
   ],
   "source": [
    "import requests\n",
    "from bs4 import BeautifulSoup\n",
    "\n",
    "url = \"https://chp.co.il/main_page/compare_results\"\n",
    "params = {\n",
    "    \"shopping_address\": \"מעלה אדומים\",\n",
    "    \"shopping_address_street_id\": \"9000\",\n",
    "    \"shopping_address_city_id\": \"3616\",\n",
    "    \"product_name_or_barcode\": \"טחינה\",\n",
    "    \"product_barcode\": \"7290027600007_7290000112220\",\n",
    "    \"from\": \"0\",\n",
    "    \"num_results\": \"20\",\n",
    "}\n",
    "\n",
    "resp = requests.get(url, params=params)\n",
    "soup = BeautifulSoup(resp.text, \"html.parser\")\n",
    "\n",
    "stores = []\n",
    "headers = []\n",
    "for row in soup.select(\"table tr\"):\n",
    "    cells = [c.get_text(strip=True) for c in row.find_all([\"td\", \"th\"])]\n",
    "    if not cells:\n",
    "        continue\n",
    "\n",
    "    # capture headers for context\n",
    "    if cells[0] == \"רשת\":\n",
    "        headers = cells\n",
    "        continue\n",
    "\n",
    "    # skip duplicate address-only rows\n",
    "    if len(cells) == 1:\n",
    "        continue\n",
    "\n",
    "    # build record according to current headers\n",
    "    record = dict(zip(headers, cells))\n",
    "    stores.append(record)\n",
    "\n",
    "for s in stores:\n",
    "    print(s)\n"
   ]
  }
 ],
 "metadata": {
  "kernelspec": {
   "display_name": ".venv",
   "language": "python",
   "name": "python3"
  },
  "language_info": {
   "codemirror_mode": {
    "name": "ipython",
    "version": 3
   },
   "file_extension": ".py",
   "mimetype": "text/x-python",
   "name": "python",
   "nbconvert_exporter": "python",
   "pygments_lexer": "ipython3",
   "version": "3.13.3"
  }
 },
 "nbformat": 4,
 "nbformat_minor": 5
}
